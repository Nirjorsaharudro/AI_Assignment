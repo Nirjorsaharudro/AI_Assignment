{
  "cells": [
    {
      "cell_type": "markdown",
      "metadata": {
        "id": "view-in-github",
        "colab_type": "text"
      },
      "source": [
        "<a href=\"https://colab.research.google.com/github/Nirjorsaharudro/AI_Assignment/blob/main/1910676134_Assignment_2.ipynb\" target=\"_parent\"><img src=\"https://colab.research.google.com/assets/colab-badge.svg\" alt=\"Open In Colab\"/></a>"
      ]
    },
    {
      "cell_type": "markdown",
      "source": [
        "# Question -1: Build a CNN which exactly looks like VGG16. Transfer weights of pre-trained VGG16 to the newly built VGG16."
      ],
      "metadata": {
        "id": "bzWrmY0v-x0L"
      }
    },
    {
      "cell_type": "markdown",
      "metadata": {
        "id": "Ymsq-lnAZ7-2"
      },
      "source": [
        "# Import necessary modules\n"
      ]
    },
    {
      "cell_type": "code",
      "execution_count": 17,
      "metadata": {
        "id": "2hrMv_aPZ7-5"
      },
      "outputs": [],
      "source": [
        "from tensorflow.keras.layers import Input,Dense,Activation,Conv2D,MaxPooling2D,Flatten\n",
        "from tensorflow.keras.models import Model\n",
        "from tensorflow.keras.applications import vgg16"
      ]
    },
    {
      "cell_type": "markdown",
      "source": [],
      "metadata": {
        "id": "f2I84fdL-vUZ"
      }
    },
    {
      "cell_type": "code",
      "execution_count": 18,
      "metadata": {
        "colab": {
          "base_uri": "https://localhost:8080/"
        },
        "id": "DkAsU7daZ7-7",
        "outputId": "0f5bd0fc-d545-4d25-eca1-499f6fcb88c0"
      },
      "outputs": [
        {
          "output_type": "stream",
          "name": "stdout",
          "text": [
            "Model: \"vgg16\"\n",
            "_________________________________________________________________\n",
            " Layer (type)                Output Shape              Param #   \n",
            "=================================================================\n",
            " input_4 (InputLayer)        [(None, 224, 224, 3)]     0         \n",
            "                                                                 \n",
            " block1_conv1 (Conv2D)       (None, 224, 224, 64)      1792      \n",
            "                                                                 \n",
            " block1_conv2 (Conv2D)       (None, 224, 224, 64)      36928     \n",
            "                                                                 \n",
            " block1_pool (MaxPooling2D)  (None, 112, 112, 64)      0         \n",
            "                                                                 \n",
            " block2_conv1 (Conv2D)       (None, 112, 112, 128)     73856     \n",
            "                                                                 \n",
            " block2_conv2 (Conv2D)       (None, 112, 112, 128)     147584    \n",
            "                                                                 \n",
            " block2_pool (MaxPooling2D)  (None, 56, 56, 128)       0         \n",
            "                                                                 \n",
            " block3_conv1 (Conv2D)       (None, 56, 56, 256)       295168    \n",
            "                                                                 \n",
            " block3_conv2 (Conv2D)       (None, 56, 56, 256)       590080    \n",
            "                                                                 \n",
            " block3_conv3 (Conv2D)       (None, 56, 56, 256)       590080    \n",
            "                                                                 \n",
            " block3_pool (MaxPooling2D)  (None, 28, 28, 256)       0         \n",
            "                                                                 \n",
            " block4_conv1 (Conv2D)       (None, 28, 28, 512)       1180160   \n",
            "                                                                 \n",
            " block4_conv2 (Conv2D)       (None, 28, 28, 512)       2359808   \n",
            "                                                                 \n",
            " block4_conv3 (Conv2D)       (None, 28, 28, 512)       2359808   \n",
            "                                                                 \n",
            " block4_pool (MaxPooling2D)  (None, 14, 14, 512)       0         \n",
            "                                                                 \n",
            " block5_conv1 (Conv2D)       (None, 14, 14, 512)       2359808   \n",
            "                                                                 \n",
            " block5_conv2 (Conv2D)       (None, 14, 14, 512)       2359808   \n",
            "                                                                 \n",
            " block5_conv3 (Conv2D)       (None, 14, 14, 512)       2359808   \n",
            "                                                                 \n",
            " block5_pool (MaxPooling2D)  (None, 7, 7, 512)         0         \n",
            "                                                                 \n",
            " flatten (Flatten)           (None, 25088)             0         \n",
            "                                                                 \n",
            " fc1 (Dense)                 (None, 4096)              102764544 \n",
            "                                                                 \n",
            " fc2 (Dense)                 (None, 4096)              16781312  \n",
            "                                                                 \n",
            " predictions (Dense)         (None, 1000)              4097000   \n",
            "                                                                 \n",
            "=================================================================\n",
            "Total params: 138357544 (527.79 MB)\n",
            "Trainable params: 138357544 (527.79 MB)\n",
            "Non-trainable params: 0 (0.00 Byte)\n",
            "_________________________________________________________________\n"
          ]
        }
      ],
      "source": [
        "model = vgg16.VGG16()\n",
        "model.summary()\n"
      ]
    },
    {
      "cell_type": "markdown",
      "metadata": {
        "id": "0NF9MpSzZ7-7"
      },
      "source": [
        "# Implementation of vgg16 Model Architecture (vgg16)"
      ]
    },
    {
      "cell_type": "code",
      "execution_count": 19,
      "metadata": {
        "colab": {
          "base_uri": "https://localhost:8080/"
        },
        "id": "kayu-EE_Z7-7",
        "outputId": "0ae9dbea-c905-4685-9326-c73f82d28456"
      },
      "outputs": [
        {
          "output_type": "stream",
          "name": "stdout",
          "text": [
            "Model: \"vgg16_implementatio\"\n",
            "_________________________________________________________________\n",
            " Layer (type)                Output Shape              Param #   \n",
            "=================================================================\n",
            " input (InputLayer)          [(None, 224, 224, 3)]     0         \n",
            "                                                                 \n",
            " block1_conv1 (Conv2D)       (None, 224, 224, 64)      1792      \n",
            "                                                                 \n",
            " block1_conv2 (Conv2D)       (None, 224, 224, 64)      36928     \n",
            "                                                                 \n",
            " block1_pool (MaxPooling2D)  (None, 112, 112, 64)      0         \n",
            "                                                                 \n",
            " block2_conv1 (Conv2D)       (None, 112, 112, 128)     73856     \n",
            "                                                                 \n",
            " block2_conv2 (Conv2D)       (None, 112, 112, 128)     147584    \n",
            "                                                                 \n",
            " block2_pool (MaxPooling2D)  (None, 56, 56, 128)       0         \n",
            "                                                                 \n",
            " block3_conv1 (Conv2D)       (None, 56, 56, 256)       295168    \n",
            "                                                                 \n",
            " block3_conv2 (Conv2D)       (None, 56, 56, 256)       590080    \n",
            "                                                                 \n",
            " block3_conv3 (Conv2D)       (None, 56, 56, 256)       590080    \n",
            "                                                                 \n",
            " block3_pool (MaxPooling2D)  (None, 28, 28, 256)       0         \n",
            "                                                                 \n",
            " block4_conv1 (Conv2D)       (None, 28, 28, 512)       1180160   \n",
            "                                                                 \n",
            " block4_conv2 (Conv2D)       (None, 28, 28, 512)       2359808   \n",
            "                                                                 \n",
            " block4_conv3 (Conv2D)       (None, 28, 28, 512)       2359808   \n",
            "                                                                 \n",
            " block4_pool (MaxPooling2D)  (None, 14, 14, 512)       0         \n",
            "                                                                 \n",
            " block5_conv1 (Conv2D)       (None, 14, 14, 512)       2359808   \n",
            "                                                                 \n",
            " block5_conv2 (Conv2D)       (None, 14, 14, 512)       2359808   \n",
            "                                                                 \n",
            " block5_conv3 (Conv2D)       (None, 14, 14, 512)       2359808   \n",
            "                                                                 \n",
            " block5_pool (MaxPooling2D)  (None, 7, 7, 512)         0         \n",
            "                                                                 \n",
            " flatten (Flatten)           (None, 25088)             0         \n",
            "                                                                 \n",
            " fc1 (Dense)                 (None, 4096)              102764544 \n",
            "                                                                 \n",
            " fc2 (Dense)                 (None, 4096)              16781312  \n",
            "                                                                 \n",
            " output (Dense)              (None, 1000)              4097000   \n",
            "                                                                 \n",
            "=================================================================\n",
            "Total params: 138357544 (527.79 MB)\n",
            "Trainable params: 138357544 (527.79 MB)\n",
            "Non-trainable params: 0 (0.00 Byte)\n",
            "_________________________________________________________________\n"
          ]
        }
      ],
      "source": [
        "input_shape = (224,224,3)\n",
        "inputs = Input(input_shape,name = 'input')\n",
        "# block-1\n",
        "x = Conv2D(filters = 64, kernel_size = (3,3),padding = 'same',activation = 'relu',name = 'block1_conv1')(inputs)\n",
        "x = Conv2D(filters = 64, kernel_size = (3,3),padding = 'same',activation = 'relu',name = 'block1_conv2')(x)\n",
        "# x = MaxPooling2D(pool_size=(4,4),padding='valid')(x)\n",
        "x = MaxPooling2D(name = 'block1_pool')(x)\n",
        "# block-2\n",
        "x = Conv2D(filters = 128, kernel_size = (3,3),padding = 'same',activation = 'relu',name = 'block2_conv1')(x)\n",
        "x = Conv2D(filters = 128, kernel_size = (3,3),padding = 'same',activation = 'relu',name = 'block2_conv2')(x)\n",
        "x = MaxPooling2D(name = 'block2_pool')(x)\n",
        "# block-3\n",
        "x = Conv2D(filters = 256, kernel_size = (3,3),padding = 'same',activation = 'relu',name = 'block3_conv1')(x)\n",
        "x = Conv2D(filters = 256, kernel_size = (3,3),padding = 'same',activation = 'relu',name = 'block3_conv2')(x)\n",
        "x = Conv2D(filters = 256, kernel_size = (3,3),padding = 'same',activation = 'relu',name = 'block3_conv3')(x)\n",
        "x = MaxPooling2D(name = 'block3_pool')(x)\n",
        "# block-4\n",
        "x = Conv2D(filters = 512, kernel_size = (3,3),padding = 'same',activation = 'relu',name = 'block4_conv1')(x)\n",
        "x = Conv2D(filters = 512, kernel_size = (3,3),padding = 'same',activation = 'relu',name = 'block4_conv2')(x)\n",
        "x = Conv2D(filters = 512, kernel_size = (3,3),padding = 'same',activation = 'relu',name = 'block4_conv3')(x)\n",
        "x = MaxPooling2D(name = 'block4_pool')(x)\n",
        "# block-5\n",
        "x = Conv2D(filters = 512, kernel_size = (3,3),padding = 'same',activation = 'relu',name = 'block5_conv1')(x)\n",
        "x = Conv2D(filters = 512, kernel_size = (3,3),padding = 'same',activation = 'relu',name = 'block5_conv2')(x)\n",
        "x = Conv2D(filters = 512, kernel_size = (3,3),padding = 'same',activation = 'relu',name = 'block5_conv3')(x)\n",
        "x = MaxPooling2D(name = 'block5_pool')(x)\n",
        "# flatten\n",
        "x = Flatten(name = 'flatten')(x)\n",
        "x = Dense(4096,name = 'fc1', activation = 'relu')(x)\n",
        "x = Dense(4096,name = 'fc2', activation = 'relu')(x)\n",
        "\n",
        "outputs = Dense(1000,activation='softmax',name = 'output')(x)\n",
        "new_model = Model(inputs,outputs,name = 'vgg16_implementatio')\n",
        "new_model.summary()"
      ]
    },
    {
      "cell_type": "markdown",
      "metadata": {
        "id": "b6J0D402Z7-7"
      },
      "source": [
        "# Transfer weights from pre_trained vgg16 into new_vgg16_model"
      ]
    },
    {
      "cell_type": "code",
      "execution_count": 20,
      "metadata": {
        "id": "N390qRHqZ7-8"
      },
      "outputs": [],
      "source": [
        "for i in range(len(model.layers)):\n",
        "    new_model.layers[i].set_weights(model.layers[i].get_weights())\n",
        "\n"
      ]
    },
    {
      "cell_type": "code",
      "execution_count": 20,
      "metadata": {
        "id": "I6Q-aG9DZ7-8"
      },
      "outputs": [],
      "source": []
    },
    {
      "cell_type": "markdown",
      "source": [
        "# Question-2 :  Build a CNN which will look like VGG16, but will not be exactly VGG16 by fulfilling the following conditions"
      ],
      "metadata": {
        "id": "ytXSVsYCAUMj"
      }
    },
    {
      "cell_type": "markdown",
      "source": [
        "# Custom model Architecture like vgg16"
      ],
      "metadata": {
        "id": "7dFWGALMA-fE"
      }
    },
    {
      "cell_type": "code",
      "source": [
        "# input size of images with 3 channel(rgb)\n",
        "input_shape = (224,224,3)\n",
        "inputs_1 = Input(input_shape,name = 'input_layer')\n",
        "# block-1\n",
        "x = Conv2D(filters = 32, kernel_size = (5,5),padding = 'same',activation = 'relu',name = 'block1_conv1')(inputs_1)\n",
        "x = Conv2D(filters = 32, kernel_size = (5,5),padding = 'same',activation = 'relu',name = 'block1_conv2')(x)\n",
        "x = MaxPooling2D(pool_size=(4,4),strides=(2,2), padding='same', name = 'block1_pool')(x)\n",
        "# # block-2\n",
        "x = Conv2D(filters = 64, kernel_size = (5,5),padding = 'same',activation = 'relu',name = 'block2_conv1')(x)\n",
        "x = MaxPooling2D(pool_size=(4,4),strides=(2,2), padding='same', name = 'block2_pool')(x)\n",
        "# block-3\n",
        "x = Conv2D(filters = 128, kernel_size = (5,5),padding = 'same',activation = 'relu',name = 'block3_conv1')(x)\n",
        "x = MaxPooling2D(pool_size=(4,4),strides=(2,2), padding='same', name = 'block3_pool')(x)\n",
        "# block-4\n",
        "x = Conv2D(filters = 512, kernel_size = (5,5),padding = 'same',activation = 'relu',name = 'block4_conv1')(x)\n",
        "x = MaxPooling2D(pool_size=(4,4),strides=(2,2), padding='same', name = 'block4_pool')(x)\n",
        "# block-5\n",
        "x = Conv2D(filters = 128, kernel_size = (5,5),padding = 'same',activation = 'relu',name = 'block5_conv1')(x)\n",
        "x = MaxPooling2D(pool_size=(4,4),strides=(2,2), padding='same', name = 'block5_pool')(x)\n",
        "# # flatten\n",
        "x = Flatten(name = 'flatten')(x)\n",
        "#fully connected layer\n",
        "x = Dense(2048,name='fc1',activation='relu')(x)\n",
        "\n",
        "# output layer for binary classificatin\n",
        "outputs_1 = Dense(10,activation='sigmoid',name = 'output_layer')(x)\n",
        "custom_model = Model(inputs_1,outputs_1,name = 'custom_vgg16')\n",
        "custom_model.summary()\n",
        "\n",
        "len(custom_model.layers)"
      ],
      "metadata": {
        "colab": {
          "base_uri": "https://localhost:8080/"
        },
        "id": "BHJtxcGbAW-K",
        "outputId": "70017627-08bc-4868-d2a3-1c5b68534fb2"
      },
      "execution_count": 42,
      "outputs": [
        {
          "output_type": "stream",
          "name": "stdout",
          "text": [
            "Model: \"custom_vgg16\"\n",
            "_________________________________________________________________\n",
            " Layer (type)                Output Shape              Param #   \n",
            "=================================================================\n",
            " input_layer (InputLayer)    [(None, 224, 224, 3)]     0         \n",
            "                                                                 \n",
            " block1_conv1 (Conv2D)       (None, 224, 224, 32)      2432      \n",
            "                                                                 \n",
            " block1_conv2 (Conv2D)       (None, 224, 224, 32)      25632     \n",
            "                                                                 \n",
            " block1_pool (MaxPooling2D)  (None, 112, 112, 32)      0         \n",
            "                                                                 \n",
            " block2_conv1 (Conv2D)       (None, 112, 112, 64)      51264     \n",
            "                                                                 \n",
            " block2_pool (MaxPooling2D)  (None, 56, 56, 64)        0         \n",
            "                                                                 \n",
            " block3_conv1 (Conv2D)       (None, 56, 56, 128)       204928    \n",
            "                                                                 \n",
            " block3_pool (MaxPooling2D)  (None, 28, 28, 128)       0         \n",
            "                                                                 \n",
            " block4_conv1 (Conv2D)       (None, 28, 28, 512)       1638912   \n",
            "                                                                 \n",
            " block4_pool (MaxPooling2D)  (None, 14, 14, 512)       0         \n",
            "                                                                 \n",
            " block5_conv1 (Conv2D)       (None, 14, 14, 128)       1638528   \n",
            "                                                                 \n",
            " block5_pool (MaxPooling2D)  (None, 7, 7, 128)         0         \n",
            "                                                                 \n",
            " flatten (Flatten)           (None, 6272)              0         \n",
            "                                                                 \n",
            " fc1 (Dense)                 (None, 2048)              12847104  \n",
            "                                                                 \n",
            " output_layer (Dense)        (None, 10)                20490     \n",
            "                                                                 \n",
            "=================================================================\n",
            "Total params: 16429290 (62.67 MB)\n",
            "Trainable params: 16429290 (62.67 MB)\n",
            "Non-trainable params: 0 (0.00 Byte)\n",
            "_________________________________________________________________\n"
          ]
        },
        {
          "output_type": "execute_result",
          "data": {
            "text/plain": [
              "15"
            ]
          },
          "metadata": {},
          "execution_count": 42
        }
      ]
    }
  ],
  "metadata": {
    "kernelspec": {
      "display_name": "Python 3",
      "name": "python3"
    },
    "language_info": {
      "codemirror_mode": {
        "name": "ipython",
        "version": 3
      },
      "file_extension": ".py",
      "mimetype": "text/x-python",
      "name": "python",
      "nbconvert_exporter": "python",
      "pygments_lexer": "ipython3",
      "version": "3.11.4"
    },
    "colab": {
      "provenance": [],
      "gpuType": "T4",
      "include_colab_link": true
    },
    "accelerator": "GPU"
  },
  "nbformat": 4,
  "nbformat_minor": 0
}